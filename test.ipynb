{
 "cells": [
  {
   "cell_type": "code",
   "execution_count": 1,
   "id": "4fda26c1-6551-41fe-aa78-081937703356",
   "metadata": {},
   "outputs": [],
   "source": [
    "from main import get_interactions_from_med"
   ]
  },
  {
   "cell_type": "code",
   "execution_count": 2,
   "id": "78da6ebd-6689-4045-a16d-ead36b5be5af",
   "metadata": {},
   "outputs": [
    {
     "name": "stdout",
     "output_type": "stream",
     "text": [
      "Interaction between Diclofenac and Fexofenadine\n",
      "Severity: N/A \n",
      "Interaction: The excretion of Fexofenadine can be decreased when combined with Diclofenac.\n",
      "-------\n",
      "Interaction between Acetaminophen and Diclofenac\n",
      "Severity: N/A \n",
      "Interaction: The risk or severity of adverse effects can be increased when Acetaminophen is combined with Diclofenac.\n",
      "-------\n"
     ]
    }
   ],
   "source": [
    "raw_text = \"dolo, volini gel, allegra\"\n",
    "\n",
    "get_interactions_from_med(raw_text, print_output=True)"
   ]
  }
 ],
 "metadata": {
  "kernelspec": {
   "display_name": "Python 3",
   "language": "python",
   "name": "python3"
  },
  "language_info": {
   "codemirror_mode": {
    "name": "ipython",
    "version": 3
   },
   "file_extension": ".py",
   "mimetype": "text/x-python",
   "name": "python",
   "nbconvert_exporter": "python",
   "pygments_lexer": "ipython3",
   "version": "3.6.8"
  }
 },
 "nbformat": 4,
 "nbformat_minor": 5
}
