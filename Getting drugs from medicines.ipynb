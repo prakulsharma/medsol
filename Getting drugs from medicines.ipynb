{
 "cells": [
  {
   "cell_type": "code",
   "execution_count": 20,
   "id": "6a65d056-9654-434e-b30d-440ce7e09180",
   "metadata": {},
   "outputs": [],
   "source": [
    "import pandas as pd\n",
    "import nltk\n",
    "import requests\n",
    "import bs4\n",
    "from nltk.tokenize import word_tokenize\n",
    "from nltk.tokenize import sent_tokenize\n",
    "import re\n",
    "\n",
    "from pprint import pprint"
   ]
  },
  {
   "cell_type": "markdown",
   "id": "64d0bfb8-8b5e-4064-af71-258852bdb373",
   "metadata": {},
   "source": [
    "# Issues in code\n",
    "1. Unable to find medicines with - or space dependency from mims website. Need to resolve this issue\n",
    "2. Unable to find some medicines in mims website, need another website to scrape"
   ]
  },
  {
   "cell_type": "code",
   "execution_count": 37,
   "id": "6e3ac2cb-2fd7-44cb-84ab-f1dafd0ad7e4",
   "metadata": {},
   "outputs": [],
   "source": [
    "def clean_text(text):\n",
    "    lst = []\n",
    "    pattern = \"[\\d\\.\\s]+(mg[//]?|ml)+\"\n",
    "    clean_string = re.sub(pattern, ' ', text )\n",
    "    \n",
    "    pattern = \"\\([a-z]+\\)\"\n",
    "    clean_string = re.sub(pattern, ' ', clean_string )\n",
    "\n",
    "    pattern = \":\\s*[a-z\\,\\-\\s]+\"\n",
    "    final_string = re.findall(pattern, clean_string )\n",
    "    \n",
    "    \n",
    "    for drug in final_string:\n",
    "        lst.append(drug.split(\":\")[1])\n",
    "        \n",
    "    return lst"
   ]
  },
  {
   "cell_type": "code",
   "execution_count": 38,
   "id": "cbf2053a-9a3c-4b13-929a-624cb7708a28",
   "metadata": {},
   "outputs": [],
   "source": [
    "def clean_text_without_colon(text):\n",
    "    \n",
    "#     pattern = \"[\\r\\n]\"\n",
    "#     clean_string = re.sub(pattern, '', text )\n",
    "    \n",
    "    pattern = \"[a-z,\\s]+\"\n",
    "    clean_string = re.findall(pattern, text)\n",
    "    \n",
    "    # Assuming all text in the first string only\n",
    "    lst = []\n",
    "    lst.append(clean_string[0])\n",
    "    return lst"
   ]
  },
  {
   "cell_type": "code",
   "execution_count": 39,
   "id": "da938016-3881-4e03-830a-60fbacb2ae82",
   "metadata": {},
   "outputs": [],
   "source": [
    "def remove_common_drugs(drugs_list):\n",
    "    updated_drug_list = []\n",
    "    for drug in drugs_list:\n",
    "        drug = drug.strip()\n",
    "\n",
    "        if len(updated_drug_list) == 0:\n",
    "            updated_drug_list.append(drug)\n",
    "        else:\n",
    "            if drug not in updated_drug_list:\n",
    "                updated_drug_list.append(drug)\n",
    "    return updated_drug_list"
   ]
  },
  {
   "cell_type": "code",
   "execution_count": 8,
   "id": "d7e6122d-0fad-4137-bc04-b999188f2930",
   "metadata": {},
   "outputs": [],
   "source": [
    "def correct_dict(drug_dict):\n",
    "    for key, value in drug_dict.items():\n",
    "        lst = []\n",
    "        if len(value) > 1:\n",
    "            for item in value:\n",
    "                if ',' in item:\n",
    "                    if len(item) > 1:\n",
    "                        for sub_item in item.split(','):\n",
    "                            lst.append(sub_item)\n",
    "                        drug_dict[key] = lst\n",
    "        else:\n",
    "            for item in value:\n",
    "                if \",\" in item:\n",
    "                    for sub_item in item.split(\",\"):\n",
    "                        lst.append(sub_item)\n",
    "                    drug_dict[key] = lst\n",
    "    return drug_dict\n"
   ]
  },
  {
   "cell_type": "code",
   "execution_count": 46,
   "id": "a2a42c25-9bb6-498e-8be1-40646bf75e7c",
   "metadata": {},
   "outputs": [],
   "source": [
    "# med_names = [\"pantop\", \"levera\", \"cardace\", \"dytor\", \"benfomet plus\", \"aldactone\", \"nexito\", \"aristozyme\", \"roliflo-od\", \"atorva\"]\n",
    "\n",
    "\n",
    "med_names = [\"Valsac\", \"roseday gold\", \"asthalin\", \"silverex\", \"lysoflam\", \"surfaz-sn\", \"volini\"]"
   ]
  },
  {
   "cell_type": "code",
   "execution_count": 47,
   "id": "d4223458-e72f-42fd-8c8d-cc814a240c64",
   "metadata": {},
   "outputs": [
    {
     "name": "stdout",
     "output_type": "stream",
     "text": [
      "'NoneType' object has no attribute 'text'\n",
      "No drug found for Valsac\n"
     ]
    }
   ],
   "source": [
    "all_drug_names_dict = {}\n",
    "for med_name in med_names:\n",
    "    url = 'https://www.mims.com/india/drug/info/' + med_name\n",
    "    request_result=requests.get( url )\n",
    "    soup = bs4.BeautifulSoup(request_result.text, \"html.parser\")\n",
    "    \n",
    "    try:\n",
    "        medicine_raw_text = soup.find(\"div\", \"monograph-section-content\").text\n",
    "        \n",
    "        #Removing white spaces and tabs\n",
    "        medicine_raw_text = re.sub(\"[\\n\\r]\", \"\", medicine_raw_text)\n",
    "        \n",
    "        # Making all text lowercase\n",
    "        medicine_raw_text = medicine_raw_text.lower()\n",
    "        \n",
    "        # Resolving text issues for cases with \":\"\n",
    "        if \":\" in medicine_raw_text:\n",
    "            drug_list = clean_text(medicine_raw_text)\n",
    "        else:\n",
    "            drug_list = clean_text_without_colon(medicine_raw_text)\n",
    "            \n",
    "        all_drug_names_dict[med_name] = drug_list\n",
    "    except Exception as e:\n",
    "        print(e)\n",
    "        print(\"No drug found for {}\".format(med_name))"
   ]
  },
  {
   "cell_type": "code",
   "execution_count": 48,
   "id": "46662908-3fd6-4eac-9473-a28db38c3d4a",
   "metadata": {},
   "outputs": [
    {
     "data": {
      "text/plain": [
       "{'roseday gold': [' aspirin , rosuvastatin , clopidogrel '],\n",
       " 'asthalin': [' salbutamol ', ' salbutamol ', ' salbutamol ', ' salbutamol'],\n",
       " 'silverex': [' silver sulphadiazine ', ' silver sulphadiazine '],\n",
       " 'lysoflam': [' paracetamol , trypsin '],\n",
       " 'surfaz-sn': [' clotrimazole '],\n",
       " 'volini': ['diclofenac sodium']}"
      ]
     },
     "execution_count": 48,
     "metadata": {},
     "output_type": "execute_result"
    }
   ],
   "source": [
    "all_drug_names_dict"
   ]
  },
  {
   "cell_type": "code",
   "execution_count": 49,
   "id": "3614d862-ebc3-4326-86fd-8bbc903f9126",
   "metadata": {},
   "outputs": [
    {
     "data": {
      "text/plain": [
       "{'roseday gold': [' aspirin ', ' rosuvastatin ', ' clopidogrel '],\n",
       " 'asthalin': [' salbutamol ', ' salbutamol ', ' salbutamol ', ' salbutamol'],\n",
       " 'silverex': [' silver sulphadiazine ', ' silver sulphadiazine '],\n",
       " 'lysoflam': [' paracetamol ', ' trypsin '],\n",
       " 'surfaz-sn': [' clotrimazole '],\n",
       " 'volini': ['diclofenac sodium']}"
      ]
     },
     "execution_count": 49,
     "metadata": {},
     "output_type": "execute_result"
    }
   ],
   "source": [
    "correct_dict(all_drug_names_dict)"
   ]
  },
  {
   "cell_type": "code",
   "execution_count": 50,
   "id": "b7d7c715-036c-43e0-b392-0d3f7eae2c88",
   "metadata": {},
   "outputs": [],
   "source": [
    "for med_name, drug_list in all_drug_names_dict.items():\n",
    "    \n",
    "    clean_drug_list = remove_common_drugs(drug_list)\n",
    "    all_drug_names_dict[med_name] = clean_drug_list"
   ]
  },
  {
   "cell_type": "code",
   "execution_count": 51,
   "id": "bf202368-1797-49a9-9bfc-5b30af4b3da1",
   "metadata": {},
   "outputs": [
    {
     "name": "stdout",
     "output_type": "stream",
     "text": [
      "roseday gold    : ['aspirin', 'rosuvastatin', 'clopidogrel']\n",
      "asthalin    : ['salbutamol']\n",
      "silverex    : ['silver sulphadiazine']\n",
      "lysoflam    : ['paracetamol', 'trypsin']\n",
      "surfaz-sn    : ['clotrimazole']\n",
      "volini    : ['diclofenac sodium']\n"
     ]
    }
   ],
   "source": [
    "for key, value in all_drug_names_dict.items():\n",
    "    print(\"{}    : {}\".format(key, value))"
   ]
  }
 ],
 "metadata": {
  "kernelspec": {
   "display_name": "Python 3",
   "language": "python",
   "name": "python3"
  },
  "language_info": {
   "codemirror_mode": {
    "name": "ipython",
    "version": 3
   },
   "file_extension": ".py",
   "mimetype": "text/x-python",
   "name": "python",
   "nbconvert_exporter": "python",
   "pygments_lexer": "ipython3",
   "version": "3.6.8"
  }
 },
 "nbformat": 4,
 "nbformat_minor": 5
}
