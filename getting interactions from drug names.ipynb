{
 "cells": [
  {
   "cell_type": "code",
   "execution_count": 1,
   "id": "6e0aea38-297a-4be5-a0f4-291418e297b2",
   "metadata": {},
   "outputs": [],
   "source": [
    "import requests"
   ]
  },
  {
   "cell_type": "code",
   "execution_count": 2,
   "id": "b8cb110e-0af0-4483-8e68-3a3fae5c7c38",
   "metadata": {},
   "outputs": [],
   "source": [
    "drug_names = ['Potassium Chloride','Spironolactone', 'Fluoxetine', 'Phenelzine']"
   ]
  },
  {
   "cell_type": "code",
   "execution_count": 3,
   "id": "f6455b8b-5da4-4218-8c44-03d403ca756d",
   "metadata": {},
   "outputs": [],
   "source": [
    "from main import get_interactions_from_drug\n"
   ]
  },
  {
   "cell_type": "code",
   "execution_count": 4,
   "id": "871f8943-c1fd-4852-b351-777fb647d317",
   "metadata": {},
   "outputs": [
    {
     "name": "stdout",
     "output_type": "stream",
     "text": [
      "Interaction between Fluoxetine and Phenelzine\n",
      "Severity: N/A \n",
      "Interaction: The risk or severity of serotonin syndrome can be increased when Fluoxetine is combined with Phenelzine.\n",
      "-------\n",
      "Interaction between Phenelzine and Spironolactone\n",
      "Severity: N/A \n",
      "Interaction: Phenelzine may increase the orthostatic hypotensive activities of Spironolactone.\n",
      "-------\n",
      "Interaction between Potassium chloride and Spironolactone\n",
      "Severity: N/A \n",
      "Interaction: The risk or severity of hyperkalemia can be increased when Potassium chloride is combined with Spironolactone.\n",
      "-------\n",
      "Interaction between Phenelzine and Potassium chloride\n",
      "Severity: N/A \n",
      "Interaction: Potassium chloride may decrease the excretion rate of Phenelzine which could result in a higher serum level.\n",
      "-------\n",
      "Interaction between fluoxetine and phenelzine\n",
      "Severity: high \n",
      "Interaction: Selective serotonin reuptake inhibitors (SSRIs) -  monoamine oxidase (MAO) inhibitors\n",
      "-------\n"
     ]
    }
   ],
   "source": [
    "get_interactions_from_drug(drug_names)"
   ]
  },
  {
   "cell_type": "code",
   "execution_count": 3,
   "id": "11618189-1d15-4cee-8fd1-69725caccb7f",
   "metadata": {},
   "outputs": [
    {
     "name": "stdout",
     "output_type": "stream",
     "text": [
      "trying for Potassium Chloride\n",
      "trying for Spironolactone\n",
      "trying for Fluoxetine\n",
      "trying for Phenelzine\n"
     ]
    }
   ],
   "source": [
    "lst = []\n",
    "for drug_name in drug_names:\n",
    "    print(\"trying for {}\".format(drug_name))\n",
    "    url = \"https://rxnav.nlm.nih.gov/REST/rxcui.json?name={}&search=1\".format(drug_name)\n",
    "\n",
    "    data = requests.get(url).json()\n",
    "\n",
    "    lst.append(data['idGroup']['rxnormId'][0])"
   ]
  },
  {
   "cell_type": "code",
   "execution_count": 5,
   "id": "06d92efb-41f6-40bc-80c8-f100711f5e54",
   "metadata": {},
   "outputs": [],
   "source": [
    "url = 'https://rxnav.nlm.nih.gov/REST/interaction/list.json?rxcuis='\n",
    "for x in lst:\n",
    "    url = url + x + '+'"
   ]
  },
  {
   "cell_type": "code",
   "execution_count": 6,
   "id": "a9d6f76d-52a5-4bc6-8f66-d31aead889ac",
   "metadata": {},
   "outputs": [],
   "source": [
    "a = requests.get(url[:-1]).json()"
   ]
  },
  {
   "cell_type": "code",
   "execution_count": 7,
   "id": "3f871dce-e7e3-46d5-8557-f6a63e2698aa",
   "metadata": {},
   "outputs": [
    {
     "name": "stdout",
     "output_type": "stream",
     "text": [
      "Interaction between Fluoxetine and Phenelzine\n",
      "Severity: N/A \n",
      "Interaction: The risk or severity of serotonin syndrome can be increased when Fluoxetine is combined with Phenelzine.\n",
      "-------\n",
      "Interaction between Phenelzine and Spironolactone\n",
      "Severity: N/A \n",
      "Interaction: Phenelzine may increase the orthostatic hypotensive activities of Spironolactone.\n",
      "-------\n",
      "Interaction between Potassium chloride and Spironolactone\n",
      "Severity: N/A \n",
      "Interaction: The risk or severity of hyperkalemia can be increased when Potassium chloride is combined with Spironolactone.\n",
      "-------\n",
      "Interaction between Phenelzine and Potassium chloride\n",
      "Severity: N/A \n",
      "Interaction: Potassium chloride may decrease the excretion rate of Phenelzine which could result in a higher serum level.\n",
      "-------\n",
      "Interaction between fluoxetine and phenelzine\n",
      "Severity: high \n",
      "Interaction: Selective serotonin reuptake inhibitors (SSRIs) -  monoamine oxidase (MAO) inhibitors\n",
      "-------\n"
     ]
    }
   ],
   "source": [
    "for fullInteractionTypeGroup in a['fullInteractionTypeGroup']:\n",
    "    for fullInteractionType in fullInteractionTypeGroup['fullInteractionType']:\n",
    "        for interactionPair in fullInteractionType['interactionPair']:\n",
    "            drug1 = interactionPair['interactionConcept'][0]['sourceConceptItem']['name']\n",
    "            drug2 = interactionPair['interactionConcept'][1]['sourceConceptItem']['name']\n",
    "            print(\"Interaction between {} and {}\".format(drug1, drug2))\n",
    "            print(\"Severity: {} \".format(interactionPair['severity']))\n",
    "            print(\"Interaction: {}\".format(interactionPair['description']))\n",
    "            print(\"-------\")"
   ]
  }
 ],
 "metadata": {
  "kernelspec": {
   "display_name": "Python 3",
   "language": "python",
   "name": "python3"
  },
  "language_info": {
   "codemirror_mode": {
    "name": "ipython",
    "version": 3
   },
   "file_extension": ".py",
   "mimetype": "text/x-python",
   "name": "python",
   "nbconvert_exporter": "python",
   "pygments_lexer": "ipython3",
   "version": "3.6.8"
  }
 },
 "nbformat": 4,
 "nbformat_minor": 5
}
