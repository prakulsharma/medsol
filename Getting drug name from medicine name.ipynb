{
 "cells": [
  {
   "cell_type": "code",
   "execution_count": 1,
   "id": "d5228905-500a-4f0f-abec-d77000ab5a01",
   "metadata": {},
   "outputs": [],
   "source": [
    "import pandas as pd\n",
    "import nltk\n",
    "\n",
    "import requests\n",
    "import bs4\n",
    "\n",
    "from nltk.tokenize import word_tokenize\n"
   ]
  },
  {
   "cell_type": "code",
   "execution_count": null,
   "id": "46bcf141-33fb-4b9c-994c-fe14bcdbbc60",
   "metadata": {},
   "outputs": [],
   "source": [
    "med_names = [\"Dolo 650mg\"]"
   ]
  },
  {
   "cell_type": "code",
   "execution_count": null,
   "id": "27160f5e-de9c-47dc-a7ae-fe94d5327c89",
   "metadata": {},
   "outputs": [],
   "source": [
    "for med_name in med_names:\n",
    "    med_name\n",
    "    med_name_search = med_name + \"salt composition\"\n",
    "    url = 'https://google.com/search?q=' + med_name_search\n",
    "    request_result=requests.get( url )\n",
    "    soup = bs4.BeautifulSoup(request_result.text, \"html.parser\")"
   ]
  }
 ],
 "metadata": {
  "kernelspec": {
   "display_name": "Python 3",
   "language": "python",
   "name": "python3"
  },
  "language_info": {
   "codemirror_mode": {
    "name": "ipython",
    "version": 3
   },
   "file_extension": ".py",
   "mimetype": "text/x-python",
   "name": "python",
   "nbconvert_exporter": "python",
   "pygments_lexer": "ipython3",
   "version": "3.6.8"
  }
 },
 "nbformat": 4,
 "nbformat_minor": 5
}
